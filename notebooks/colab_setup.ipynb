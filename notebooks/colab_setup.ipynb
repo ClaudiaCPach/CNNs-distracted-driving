{
 "cells": [
  {
   "cell_type": "markdown",
   "metadata": {},
   "source": [
    "This notebook mounts the drive, builds the manifest CSV, makes sample grids, and saves them.  "
   ]
  },
  {
   "cell_type": "markdown",
   "metadata": {},
   "source": [
    "Mount Google Drive and set folder paths within Google Drive."
   ]
  },
  {
   "cell_type": "code",
   "execution_count": null,
   "metadata": {},
   "outputs": [],
   "source": [
    "from google.colab import drive\n",
    "drive.mount('/content/drive', force_remount=True)\n",
    "\n",
    "# Designate the disk we'll use to store the data and the TFM folder\n",
    "BASE = \"/content\" # /content on colab is faster than GDrive.\n",
    "DRIVE_BASE = \"/content/drive/MyDrive/TFM\"\n",
    "\n",
    "REPO_NAME = \"CNNs-distracted-driving\"\n",
    "\n",
    "# Put repo in the /content folder, because that is faster retrieval\n",
    "REPO_ROOT = f\"{BASE}/{REPO_NAME}\"\n"
   ]
  },
  {
   "cell_type": "markdown",
   "metadata": {},
   "source": [
    "Pull the repo (actualized) from Github."
   ]
  },
  {
   "cell_type": "code",
   "execution_count": null,
   "metadata": {},
   "outputs": [],
   "source": [
    "import os\n",
    "\n",
    "if not os.path.exists(REPO_ROOT):\n",
    "  # Scenario for first-time clone of the repo into /content (fast retrieval)\n",
    "  !git clone https://github.com/ClaudiaCPach/CNNs-distracted-driving.git \"{REPO_ROOT}\"\n",
    "else:\n",
    "  # Scenario for after this first-time clone - pulls updated code from the repo in Github\n",
    "  !git -C \"{REPO_ROOT}\" fetch --all # Get updates for every branch\n",
    "  !git -C \"{REPO_ROOT}\" pull"
   ]
  },
  {
   "cell_type": "markdown",
   "metadata": {},
   "source": [
    "Install the package and dependencies"
   ]
  },
  {
   "cell_type": "code",
   "execution_count": null,
   "metadata": {},
   "outputs": [],
   "source": [
    "# install in editable mode\n",
    "\n",
    "# make sure the pip we run corresponds to the python version we're using\n",
    "# -q means quiet mode\n",
    "# upgrade pip because colab virtual machines can sometimes start w a pip that doesn't\n",
    "# necessarily correspond to our python version (3.11)\n",
    "\n",
    "!python -m pip install -q --upgrade pip \n",
    "%cd \"{REPO_ROOT}\" # pip needs to be in the repo to be able to see the package\n",
    "!pip install -q -e . # pip installs the package in quiet mode\n",
    "%cd /content # we go back to content to make sure future logs, checkpoints, code, etc doesn't get saved to the repo."
   ]
  },
  {
   "cell_type": "markdown",
   "metadata": {},
   "source": [
    "Make data pull faster by copying data from Drive to /content ."
   ]
  },
  {
   "cell_type": "code",
   "execution_count": null,
   "metadata": {},
   "outputs": [],
   "source": [
    "from ddriver.config import DATASET_ROOT # use the path declared in config.py  \n",
    "\n"
   ]
  },
  {
   "cell_type": "code",
   "execution_count": null,
   "metadata": {},
   "outputs": [],
   "source": []
  },
  {
   "cell_type": "code",
   "execution_count": null,
   "metadata": {},
   "outputs": [],
   "source": [
    "# check space on /content (fast disk space) \n",
    "!df -h /content\n",
    "\n",
    "# check space on drive\n",
    "!du -sh \"{DATASET_ROOT}\" || echo \"Couldn't measure Drive size\"\n",
    "\n",
    "# for each session, copy the data to content\n",
    "FAST_DATA = \"/content/data\"\n",
    "os.makedirs(FAST_DATA, exist_ok=True) # create a data folder within /content\n",
    "\n",
    "'''rsync is a smart, fast copy tool\n",
    "-a = archive mode (keeps folders, times, permissions)\n",
    "-h = human-readable speeds/sizes\n",
    "--info=progress2 = shows a progress bar'''\n",
    "!rsync -ah --info=progress2 \"{DATASET_ROOT}/\" \"{FAST_DATA}/\"\n"
   ]
  }
 ],
 "metadata": {
  "kernelspec": {
   "display_name": ".venv",
   "language": "python",
   "name": "python3"
  },
  "language_info": {
   "name": "python",
   "version": "3.11.9"
  }
 },
 "nbformat": 4,
 "nbformat_minor": 2
}
